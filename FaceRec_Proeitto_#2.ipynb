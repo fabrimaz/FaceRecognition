{
 "cells": [
  {
   "cell_type": "markdown",
   "metadata": {},
   "source": [
    "# Algorithm 8 first version"
   ]
  },
  {
   "cell_type": "code",
   "execution_count": 1,
   "metadata": {},
   "outputs": [],
   "source": [
    "import face_recognition\n",
    "import cv2\n",
    "import numpy as np\n",
    "import matplotlib.pyplot as plt"
   ]
  },
  {
   "cell_type": "markdown",
   "metadata": {},
   "source": [
    "We didn’t test this algorithm on the dataset due to the fact that the recognition is based on the frames captured from a webcam and this means that a real person has to be in front of it.\n",
    "Ideally, we should have only one face model when we run this algorithm that is the one build on a video of the person that we want to recognise (old or new). We have carried out our experiment following this principle. In particular, we have trained the model on a video taken with the webcam directly or with a phone and then asking people to stay in front of the webcam to see if this algorithm can recognize them or not. We noticed a good ratio of correct recognition but we discovered that it also works only displaying videos and photos of the targeted person on the phone. For this reason, it is not reliable when we talk about “liveness” of the faces detected. \n",
    "For each test we compute two statistic:\n",
    "* number of corrected detection over the total of the detection\n",
    "* number of face detection over all frames"
   ]
  },
  {
   "cell_type": "code",
   "execution_count": 2,
   "metadata": {},
   "outputs": [],
   "source": [
    "#global variables\n",
    "\n",
    "known_face_encodings = []\n",
    "known_face_names = []\n",
    "\n",
    "def builModel(video_name):\n",
    "\n",
    "    # This is an example of running face recognition on live video from your webcam. It's a little complicated and includes\n",
    "    # some basic performance tweaks to make things run a lot faster:\n",
    "    #   1. Process each video frame at 1/4 resolution (though still display it at full resolution)\n",
    "    #   2. Only detect faces in every other frame of video.\n",
    "\n",
    "    # PLEASE NOTE: This example requires OpenCV (the `cv2` library) to be installed only to read from your webcam.\n",
    "    # OpenCV is *not* required to use the face_recognition library. It's only required if you want to run this\n",
    "    # specific code.\n",
    "\n",
    "    '''\n",
    "    We take teh video precedently saved of the person that we want to recognize and from that we select\n",
    "    a certain number of frame to build the model of the face. So we're going to have a vector of face model\n",
    "    and a label for each face who is always the same.\n",
    "    In this way during the recognition the only two possible label that we should find are \"Subject1\" or \"Unknonw\"\n",
    "    To have a greater reliability we should take more frames and build more model but is also going to be slower\n",
    "    '''\n",
    "\n",
    "    User = \"Subject1\"\n",
    "    video = cv2.VideoCapture(video_name)\n",
    "    cnt = 0\n",
    "    while(1):\n",
    "        ret, frame = video.read()\n",
    "        if ret == True:\n",
    "            if cnt % 50 == 0:\n",
    "                print(cnt)\n",
    "                rgb_frame = frame[:, :, ::-1]\n",
    "                #face_locations = face_recognition.face_locations(rgb_frame)\n",
    "                try:\n",
    "                    face_encodings = face_recognition.face_encodings(rgb_frame)[0]\n",
    "                    known_face_encodings.append(face_encodings)\n",
    "\n",
    "                    known_face_names.append(User)#always the same person\n",
    "\n",
    "                except:   \n",
    "                    print(\"No Face here\")\n",
    "            cnt +=1\n",
    "        else:\n",
    "            break"
   ]
  },
  {
   "cell_type": "code",
   "execution_count": 10,
   "metadata": {},
   "outputs": [
    {
     "name": "stdout",
     "output_type": "stream",
     "text": [
      "['Subject1', 'Subject1', 'Subject1', 'Subject1', 'Subject1', 'Subject1', 'Subject1']\n"
     ]
    }
   ],
   "source": [
    "print(known_face_names)"
   ]
  },
  {
   "cell_type": "code",
   "execution_count": 4,
   "metadata": {},
   "outputs": [],
   "source": [
    "def startRecognition():\n",
    "    \n",
    "    # Initialize some variables\n",
    "    face_locations = []\n",
    "    face_encodings = []\n",
    "    face_names = []\n",
    "    process_this_frame = True\n",
    "    unknown_c = 0\n",
    "    correct_c = 0\n",
    "    frames = 0\n",
    "\n",
    "    # Get a reference to webcam #0 (the default one)\n",
    "    video_capture = cv2.VideoCapture(0)\n",
    "\n",
    "\n",
    "    while True:\n",
    "        # Grab a single frame of video\n",
    "        ret, frame = video_capture.read()\n",
    "        frames += 1\n",
    "        # Resize frame of video to 1/4 size for faster face recognition processing\n",
    "        small_frame = cv2.resize(frame, (0, 0), fx=0.25, fy=0.25)\n",
    "\n",
    "        # Convert the image from BGR color (which OpenCV uses) to RGB color (which face_recognition uses)\n",
    "        rgb_small_frame = small_frame[:, :, ::-1]\n",
    "\n",
    "        # Only process every other frame of video to save time\n",
    "        if process_this_frame:\n",
    "            # Find all the faces and face encodings in the current frame of video\n",
    "            face_locations = face_recognition.face_locations(rgb_small_frame)\n",
    "            face_encodings = face_recognition.face_encodings(rgb_small_frame, face_locations)\n",
    "\n",
    "            face_names = []\n",
    "            for face_encoding in face_encodings:\n",
    "                # See if the face is a match for the known face(s)\n",
    "                matches = face_recognition.compare_faces(known_face_encodings, face_encoding)\n",
    "                name = \"Unknown\"\n",
    "\n",
    "                # # If a match was found in known_face_encodings, just use the first one.\n",
    "                # if True in matches:\n",
    "                #     first_match_index = matches.index(True)\n",
    "                #     name = known_face_names[first_match_index]\n",
    "\n",
    "                # Or instead, use the known face with the smallest distance to the new face\n",
    "                face_distances = face_recognition.face_distance(known_face_encodings, face_encoding)\n",
    "                best_match_index = np.argmin(face_distances)\n",
    "                if matches[best_match_index]:\n",
    "                    name = known_face_names[best_match_index]\n",
    "                    correct_c += 1\n",
    "                else:\n",
    "                    unknown_c += 1\n",
    "\n",
    "\n",
    "\n",
    "                face_names.append(name)\n",
    "\n",
    "        process_this_frame = not process_this_frame\n",
    "\n",
    "\n",
    "        # Display the results\n",
    "        for (top, right, bottom, left), name in zip(face_locations, face_names):\n",
    "            # Scale back up face locations since the frame we detected in was scaled to 1/4 size\n",
    "            top *= 4\n",
    "            right *= 4\n",
    "            bottom *= 4\n",
    "            left *= 4\n",
    "\n",
    "            # Draw a box around the face\n",
    "            cv2.rectangle(frame, (left, top), (right, bottom), (0, 0, 255), 2)\n",
    "\n",
    "            # Draw a label with a name below the face\n",
    "            cv2.rectangle(frame, (left, bottom - 35), (right, bottom), (0, 0, 255), cv2.FILLED)\n",
    "            font = cv2.FONT_HERSHEY_DUPLEX\n",
    "            cv2.putText(frame, name, (left + 6, bottom - 6), font, 1.0, (255, 255, 255), 1)\n",
    "\n",
    "        # Display the resulting image\n",
    "        cv2.imshow('Video', frame)\n",
    "\n",
    "        # Hit 'q' on the keyboard to quit!\n",
    "        if cv2.waitKey(1) & 0xFF == ord('q'):\n",
    "            break\n",
    "\n",
    "    # Release handle to the webcam\n",
    "    video_capture.release()\n",
    "    cv2.destroyAllWindows()\n",
    "\n",
    "\n",
    "    #computng metrics\n",
    "    #how many time it detect a face in the video (correct or unknown)\n",
    "    faces_detected = (unknown_c+correct_c)/frames\n",
    "    #how many correct detect over all detected faces (correct + unknown)\n",
    "    correct_detected = correct_c/(unknown_c+correct_c)\n",
    "    #how many unknown detect over all detected faces (correct + unknown)\n",
    "    not_correct_detected = unknown_c/(unknown_c+correct_c)\n",
    "    \n",
    "    #display metrics\n",
    "    #-------------------------------------#\n",
    "    labels = ['Correct Detected', 'Not Correct Detected']\n",
    "    y = [correct_detected,not_correct_detected]\n",
    "    esplodi = [0.0,0.0]\n",
    "    fig, ax1 = plt.subplots()\n",
    "    ax1.pie(y, labels=labels, explode=esplodi, autopct='%1.1f%%', startangle=90)\n",
    "    ax1.set_title(\"Recognizing rateo\")\n",
    "\n",
    "    fig.tight_layout()\n",
    "    \n",
    "    \n",
    "    \n",
    "    #-------------------------------------#\n",
    "    \n",
    "    labels = ['Faces detected', 'Frames']\n",
    "    y = [faces_detected,frames]\n",
    "    esplodi = [0.0,0.5]\n",
    "    fig, ax1 = plt.subplots()\n",
    "    ax1.pie(y, labels=labels, explode=esplodi, autopct='%1.1f%%', startangle=90)\n",
    "    ax1.set_title(\"Detecting rateo\")\n",
    "\n",
    "    fig.tight_layout()"
   ]
  },
  {
   "cell_type": "markdown",
   "metadata": {},
   "source": [
    "## NOTE: sometimes we need to restart the kernel before the buildModel() to delete the variables of the previous recognition."
   ]
  },
  {
   "cell_type": "markdown",
   "metadata": {},
   "source": [
    "### Recognition of me based on my video (higher correct detection is better )"
   ]
  },
  {
   "cell_type": "code",
   "execution_count": 5,
   "metadata": {},
   "outputs": [
    {
     "name": "stdout",
     "output_type": "stream",
     "text": [
      "0\n",
      "50\n",
      "100\n",
      "150\n",
      "200\n",
      "250\n",
      "300\n",
      "No Face here\n",
      "350\n"
     ]
    }
   ],
   "source": [
    "known_face_encodings = []\n",
    "known_face_names = []\n",
    "builModel('./Video/me.mp4')"
   ]
  },
  {
   "cell_type": "code",
   "execution_count": 6,
   "metadata": {},
   "outputs": [
    {
     "data": {
      "image/png": "[encoded data removed]",
      "text/plain": [
       "<Figure size 432x288 with 1 Axes>"
      ]
     },
     "metadata": {},
     "output_type": "display_data"
    },
    {
     "data": {
      "image/png": "[encoded data removed]",
      "text/plain": [
       "<Figure size 432x288 with 1 Axes>"
      ]
     },
     "metadata": {},
     "output_type": "display_data"
    }
   ],
   "source": [
    "startRecognition()"
   ]
  },
  {
   "cell_type": "markdown",
   "metadata": {},
   "source": [
    "We can notice that we have really good results if  the person in the video and in front of the webcam are the same"
   ]
  },
  {
   "cell_type": "markdown",
   "metadata": {},
   "source": [
    "### Recognition of me based on a male video (lower correct detection is better )"
   ]
  },
  {
   "cell_type": "code",
   "execution_count": 9,
   "metadata": {},
   "outputs": [
    {
     "name": "stdout",
     "output_type": "stream",
     "text": [
      "0\n",
      "50\n",
      "100\n",
      "150\n",
      "200\n",
      "No Face here\n",
      "250\n",
      "300\n",
      "350\n"
     ]
    }
   ],
   "source": [
    "known_face_encodings = []\n",
    "known_face_names = []\n",
    "builModel('./Video/fab.mp4')"
   ]
  },
  {
   "cell_type": "code",
   "execution_count": 13,
   "metadata": {},
   "outputs": [
    {
     "data": {
      "image/png": "[encoded data removed]",
      "text/plain": [
       "<Figure size 432x288 with 1 Axes>"
      ]
     },
     "metadata": {},
     "output_type": "display_data"
    },
    {
     "data": {
      "image/png": "[encoded data removed]",
      "text/plain": [
       "<Figure size 432x288 with 1 Axes>"
      ]
     },
     "metadata": {},
     "output_type": "display_data"
    }
   ],
   "source": [
    "startRecognition()"
   ]
  },
  {
   "cell_type": "markdown",
   "metadata": {},
   "source": [
    "This experiment is more difficulct for the algorithm because the two subject are different but share some common facial traits like beard, same color of the skin, the both have glasses etc.\n",
    "In this case the algorithm seems to achieve a worst result than before classifing the person in front of the webcame the same as the videos even if it is not true."
   ]
  },
  {
   "cell_type": "markdown",
   "metadata": {},
   "source": [
    "### Recognition of me based on a female video  (lower correct detection is better )"
   ]
  },
  {
   "cell_type": "code",
   "execution_count": 7,
   "metadata": {},
   "outputs": [
    {
     "name": "stdout",
     "output_type": "stream",
     "text": [
      "0\n",
      "50\n",
      "100\n"
     ]
    }
   ],
   "source": [
    "known_face_encodings = []\n",
    "known_face_names = []\n",
    "builModel('./Video/mr.mp4')"
   ]
  },
  {
   "cell_type": "code",
   "execution_count": 8,
   "metadata": {},
   "outputs": [
    {
     "data": {
      "image/png": "[encoded data removed]",
      "text/plain": [
       "<Figure size 432x288 with 1 Axes>"
      ]
     },
     "metadata": {},
     "output_type": "display_data"
    },
    {
     "data": {
      "image/png": "[encoded data removed]",
      "text/plain": [
       "<Figure size 432x288 with 1 Axes>"
      ]
     },
     "metadata": {},
     "output_type": "display_data"
    }
   ],
   "source": [
    "startRecognition()"
   ]
  },
  {
   "cell_type": "markdown",
   "metadata": {},
   "source": [
    "We achieve a good result also if we try the algorithm on two different genders"
   ]
  },
  {
   "cell_type": "code",
   "execution_count": 29,
   "metadata": {},
   "outputs": [],
   "source": [
    "# Release handle to the webcam--use in case of blocked webcam due to errors in the previous cells\n",
    "video_capture = cv2.VideoCapture(0)\n",
    "video_capture.release()\n",
    "cv2.destroyAllWindows()"
   ]
  },
  {
   "cell_type": "code",
   "execution_count": null,
   "metadata": {},
   "outputs": [],
   "source": []
  }
 ],
 "metadata": {
  "kernelspec": {
   "display_name": "Python 3",
   "language": "python",
   "name": "python3"
  },
  "language_info": {
   "codemirror_mode": {
    "name": "ipython",
    "version": 3
   },
   "file_extension": ".py",
   "mimetype": "text/x-python",
   "name": "python",
   "nbconvert_exporter": "python",
   "pygments_lexer": "ipython3",
   "version": "3.7.6"
  }
 },
 "nbformat": 4,
 "nbformat_minor": 2
}
