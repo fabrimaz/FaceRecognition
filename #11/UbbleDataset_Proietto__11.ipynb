{
  "nbformat": 4,
  "nbformat_minor": 0,
  "metadata": {
    "kernelspec": {
      "name": "python3",
      "display_name": "Python 3"
    },
    "language_info": {
      "codemirror_mode": {
        "name": "ipython",
        "version": 3
      },
      "file_extension": ".py",
      "mimetype": "text/x-python",
      "name": "python",
      "nbconvert_exporter": "python",
      "pygments_lexer": "ipython3",
      "version": "3.7.4"
    },
    "colab": {
      "name": "UbbleDataset_Proietto_#11.ipynb",
      "provenance": [],
      "collapsed_sections": [
        "-m5ELnYg7XAi",
        "w_9-7jg5-wvx",
        "r_L5jrMh9B0d",
        "R2cBwa9P9VHI",
        "GZJHpw61oIWB",
        "y6_PYZxU-83Z",
        "-iclR-B9-3GB",
        "O-zz8qyU3EQG",
        "Qj-bS12S57kS",
        "s9CEllVMSEdS",
        "MLBvsy6uSNy2",
        "dshYz-BCB7CP",
        "BrYACZqwokY_"
      ]
    },
    "accelerator": "GPU"
  },
  "cells": [
    {
      "cell_type": "markdown",
      "metadata": {
        "id": "uflDot-tgVCq",
        "colab_type": "text"
      },
      "source": [
        "# Face Recognition #11\n",
        "\n",
        "- We are using: Ubble dataset\n",
        "\n",
        "We have used during the computation of the FAR and TAR only the encodings that have been previously generated in order to speed up the execution.\n",
        "Each person is described by a vector that contains a certain number of  encodings generated from images among all the ones available for a certain person in a video.\n"
      ]
    },
    {
      "cell_type": "markdown",
      "metadata": {
        "id": "-m5ELnYg7XAi",
        "colab_type": "text"
      },
      "source": [
        "##Basic import"
      ]
    },
    {
      "cell_type": "markdown",
      "metadata": {
        "id": "tLF0XL_s1xAV",
        "colab_type": "text"
      },
      "source": [
        "Needed for Google colab in order to mount the local filesystem"
      ]
    },
    {
      "cell_type": "code",
      "metadata": {
        "id": "8wGHKm_Jg6KE",
        "colab_type": "code",
        "outputId": "ea92579a-fdaa-4125-d70f-00f1efe15cb4",
        "colab": {
          "base_uri": "https://localhost:8080/",
          "height": 134
        }
      },
      "source": [
        "import sys\n",
        "import os\n",
        "from google.colab import drive\n",
        "\n",
        "drive.mount('/content/gdrive')\n",
        "root_path = 'gdrive/My Drive/Colab Notebooks/PRIM/'  # your new root path\n",
        "\n",
        "sys.path.append(os.path.join(root_path, 'notebooks')) # for importing from utils.py\n",
        "\n",
        "# install the face_recognition package used in the whole code\n",
        "!pip install face_recognition"
      ],
      "execution_count": 0,
      "outputs": [
        {
          "output_type": "stream",
          "text": [
            "Drive already mounted at /content/gdrive; to attempt to forcibly remount, call drive.mount(\"/content/gdrive\", force_remount=True).\n",
            "Requirement already satisfied: face_recognition in /usr/local/lib/python3.6/dist-packages (1.3.0)\n",
            "Requirement already satisfied: Click>=6.0 in /usr/local/lib/python3.6/dist-packages (from face_recognition) (7.1.2)\n",
            "Requirement already satisfied: Pillow in /usr/local/lib/python3.6/dist-packages (from face_recognition) (7.0.0)\n",
            "Requirement already satisfied: face-recognition-models>=0.3.0 in /usr/local/lib/python3.6/dist-packages (from face_recognition) (0.3.0)\n",
            "Requirement already satisfied: dlib>=19.7 in /usr/local/lib/python3.6/dist-packages (from face_recognition) (19.18.0)\n",
            "Requirement already satisfied: numpy in /usr/local/lib/python3.6/dist-packages (from face_recognition) (1.18.4)\n"
          ],
          "name": "stdout"
        }
      ]
    },
    {
      "cell_type": "code",
      "metadata": {
        "id": "zzCE8tahgVCv",
        "colab_type": "code",
        "outputId": "a784182c-e869-4c52-c666-6fc9b2bb9b09",
        "colab": {
          "base_uri": "https://localhost:8080/",
          "height": 34
        }
      },
      "source": [
        "import pickle # to save and retrieve encodings and data\n",
        "import cv2 #\n",
        "from imutils import paths\n",
        "import face_recognition\n",
        "import argparse\n",
        "import cv2\n",
        "import dlib#face_recognition is based on dlib the compiled version for gpu is preferred\n",
        "import matplotlib.pyplot as plt\n",
        "import time\n",
        "import pdb #debug\n",
        "import numpy as np\n",
        "import random\n",
        "import csv\n",
        "\n",
        "\n",
        "#return true if the gpu is enabled\n",
        "print(dlib.DLIB_USE_CUDA)"
      ],
      "execution_count": 0,
      "outputs": [
        {
          "output_type": "stream",
          "text": [
            "True\n"
          ],
          "name": "stdout"
        }
      ]
    },
    {
      "cell_type": "code",
      "metadata": {
        "colab_type": "code",
        "id": "FxKAzze8CC0Z",
        "colab": {}
      },
      "source": [
        "#os.listdir(root_path + 'face_videos/face_videos')"
      ],
      "execution_count": 0,
      "outputs": []
    },
    {
      "cell_type": "markdown",
      "metadata": {
        "id": "w_9-7jg5-wvx",
        "colab_type": "text"
      },
      "source": [
        "## Creating new encodings & boxes"
      ]
    },
    {
      "cell_type": "code",
      "metadata": {
        "id": "2BLnySRd9m11",
        "colab_type": "code",
        "colab": {}
      },
      "source": [
        "def createEncodings(dataset_vector, name , detection = 'cnn'):\n",
        "\n",
        "    '''\n",
        "    - dataset_vector: array of images that represent the video\n",
        "    - name: name of the person of which we're going to create the encodings\n",
        "    - detection: parameter to be passed to face_recognition, it specify the model used to retrieve boxes from images\n",
        "\n",
        "    - return: None, all the encodings are saved on the disk\n",
        "    '''\n",
        "\n",
        "    # grab the paths to the input images in our dataset\n",
        "    print(\"[INFO] quantifying faces...\")\n",
        "    '''\n",
        "    We're going to take all the images and create the encodings\n",
        "    '''\n",
        "\n",
        "    #if the vector doesn't contin images an error in reported\n",
        "    if len(dataset_vector )<= 0:\n",
        "      print(\"AN ERROR OCCURRED FOR \",name)\n",
        "      return\n",
        "\n",
        "    images = dataset_vector #create the encodings for each frame in the video --> it will take a lot of time to do all the videos-> 5/6 hours\n",
        "\n",
        "    # initialize the list of known encodings and known names\n",
        "    knownEncodings = []\n",
        "    knownNames = []\n",
        "\n",
        "    # initialize the list of face area and image area and ratio based on the two preceden measurement\n",
        "    ratios = []\n",
        "    face_areas = []\n",
        "    image_areas = []\n",
        "    landmarks = []\n",
        "        \n",
        "    # loop over the image paths\n",
        "    for image in images:\n",
        "\n",
        "        # load the input image and convert it from RGB (OpenCV ordering)\n",
        "        # to dlib ordering (RGB)\n",
        "        rgb = cv2.cvtColor(image, cv2.COLOR_BGR2RGB)\n",
        "\n",
        "        #estimate landmark to understand face position\n",
        "        landmark = face_recognition.face_landmarks(rgb)\n",
        "\n",
        "\n",
        "        # detect the (x, y)-coordinates of the bounding boxes\n",
        "        # corresponding to each face in the input image\n",
        "        #A list of tuples of found face locations in css (top, right, bottom, left) order\n",
        "        boxes = face_recognition.face_locations(rgb,model=detection)\n",
        "\n",
        "        ######################### FACE RESOLUTION LOGIC #######################\n",
        "        \n",
        "        for face_location in boxes:\n",
        "            try:\n",
        "                top, right, bottom, left = face_location #retrieve coords of the face\n",
        "            except IndexError:\n",
        "                top = right = bottom = left = 0 #everityin is setted to zero id no face are detected\n",
        "\n",
        "            #computing the area of the face in the image\n",
        "            area_face = (bottom-top) * (right-left)\n",
        "            \n",
        "            #totale area of the image\n",
        "            area_image = image.shape[0] * image.shape[1]\n",
        "            \n",
        "            #ratio  = area_face/ total_area\n",
        "            ratio = area_face/area_image * 100\n",
        "\n",
        "            #add these element to the lists\n",
        "            ratios.append(ratio)\n",
        "            face_areas.append(area_face)\n",
        "            image_areas.append(area_image)\n",
        "            landmarks.append(landmark)\n",
        "        #########################\n",
        "    \n",
        "        # compute the facial embedding for the face based on the boxes found previously--> face_recognion package\n",
        "        #Given an image, return the 128-dimension face encoding for each face in the image.\n",
        "        encodings = face_recognition.face_encodings(rgb, boxes)\n",
        "\n",
        "        # loop over the encodings\n",
        "        for encoding in encodings:\n",
        "            # add each encoding + name to our set of known names and encodings\n",
        "            knownEncodings.append(encoding)\n",
        "            knownNames.append(name)\n",
        "            \n",
        "    # dump the facial encodings + names to disk\n",
        "    #everything is saved as a dictionary (names, encoding)\n",
        "    #the values are the two lists\n",
        "    print(\"[INFO] serializing encodings...\" + name)\n",
        "    data = {\"encodings\": knownEncodings, \"names\": knownNames}\n",
        "    file_name = root_path + \"/encodings_face_videos_half/\" + name + '.pkl'\n",
        "    \n",
        "    print(len(knownEncodings))\n",
        "\n",
        "    f = open(file_name, \"wb\")\n",
        "    f.write(pickle.dumps(data))\n",
        "    f.close()\n",
        "\n",
        "    \n",
        "    #-------------------------------------------------------------------#\n",
        "    #also in the form of dictionary\n",
        "    boxfile = open(root_path + \"/boxes/box_\" + name + \".pkl\", \"wb\")\n",
        "    boxdata = {\"ratio\": ratios, \"face\": face_areas, \"image\": image_areas, \"landmark\": landmarks}\n",
        "    boxfile.write(pickle.dumps(boxdata))\n",
        "    boxfile.close()"
      ],
      "execution_count": 0,
      "outputs": []
    },
    {
      "cell_type": "markdown",
      "metadata": {
        "id": "FDfyrMu55lz6",
        "colab_type": "text"
      },
      "source": [
        "### Using CV library crates an array of images sequentially taken from  the video"
      ]
    },
    {
      "cell_type": "code",
      "metadata": {
        "id": "NB4TFnBs-wIh",
        "colab_type": "code",
        "colab": {}
      },
      "source": [
        "def readFrames(path):\n",
        "  '''\n",
        "  path: absolute/relative path of the video \n",
        "\n",
        "  return: a list of images \n",
        "  '''\n",
        "  \n",
        "  video = cv2.VideoCapture(path)\n",
        "  frames = []\n",
        "  while(1):\n",
        "      ret, frame = video.read()\n",
        "      if ret == True:\n",
        "        frames.append(frame)\n",
        "      else:\n",
        "          break\n",
        "  return frames"
      ],
      "execution_count": 0,
      "outputs": []
    },
    {
      "cell_type": "code",
      "metadata": {
        "id": "3FaPsQEO_vrh",
        "colab_type": "code",
        "outputId": "691156e8-1109-488d-ef3a-bd9494540f94",
        "colab": {
          "base_uri": "https://localhost:8080/"
        }
      },
      "source": [
        "base_video_path = root_path + 'face_videos/face_videos/'# folder in which all the videos are contained\n",
        "\n",
        "#run the following code only once, and when you need to genrate the encoding\n",
        "'''\n",
        "videos = os.listdir(base_video_path)\n",
        "global_start = time.time()\n",
        "count = 0\n",
        "for video_name in videos:\n",
        "  start = time.time()\n",
        "  #frames = readFrames(base_video_path + video_name)#remove the comment if you neeed to train new encodings\n",
        "  #frames = frames[0:int(len(frames)/2)]#change this if you want to take only part of the total frames\n",
        "  #createEncodings(frames,video_name)\n",
        "  end = time.time()\n",
        "  print('Time_enc:', end-start)\n",
        "  print(count)\n",
        "  count += 1\n",
        "\n",
        "global_end = time.time()\n",
        "print('Total time:', global_end-global_start)\n",
        "'''"
      ],
      "execution_count": 0,
      "outputs": [
        {
          "output_type": "execute_result",
          "data": {
            "text/plain": [
              "\"\\nvideos = os.listdir(base_video_path)\\nglobal_start = time.time()\\ncount = 0\\nfor video_name in videos:\\n  start = time.time()\\n  #frames = readFrames(base_video_path + video_name)#remove the comment if you neeed to train new encodings\\n  #frames = frames[0:int(len(frames)/2)]#change this if you want to take only part of the total frames\\n  #createEncodings(frames,video_name)\\n  end = time.time()\\n  print('Time_enc:', end-start)\\n  print(count)\\n  count += 1\\n\\nglobal_end = time.time()\\nprint('Total time:', global_end-global_start)\\n\""
            ]
          },
          "metadata": {
            "tags": []
          },
          "execution_count": 6
        }
      ]
    },
    {
      "cell_type": "markdown",
      "metadata": {
        "id": "82q9qoSf_v98",
        "colab_type": "text"
      },
      "source": [
        "## Code for test"
      ]
    },
    {
      "cell_type": "markdown",
      "metadata": {
        "id": "r_L5jrMh9B0d",
        "colab_type": "text"
      },
      "source": [
        "#### Compare a new encoding with all the ones previously saved and retruns the names of the person recognised along with the minimum distance found in the comparison "
      ]
    },
    {
      "cell_type": "code",
      "metadata": {
        "id": "DnLQ4uiegVC2",
        "colab_type": "code",
        "colab": {}
      },
      "source": [
        "def faceRecognitionENC(encodings_1, encodings_2, infos, detection='cnn', tolerance = 0.6, min_area = 1):\n",
        "    '''\n",
        "    New version it only works with already made encodings\n",
        "    - encodings_1: SINGLE encoding of the person we want to recognize--> can be the same or not\n",
        "    - encodings_2: list of encodings of the person of which we know the name--> encoding saved on 'our server'\n",
        "    - ratio: ratio of the single face crop compared to the whole frame area\n",
        "    - tolerance = max eculidean distance between two encoding to be recognised as the same\n",
        "    - min_area = mi area that the face crip MUST have in order to not be discarded\n",
        "\n",
        "\n",
        "    Returns:\n",
        "      name:\n",
        "          - name if the person is recognized\n",
        "          - discarded if the frames is not good\n",
        "          - unknown if the distance is greater than tolerance\n",
        "      \n",
        "      dist:the min distance between the new face and the one saved if recognized, 1 otherwise\n",
        "    '''\n",
        "    start = time.time()\n",
        "\n",
        "\n",
        "    data = encodings_2# data on our server\n",
        "    \n",
        "    # initialize the list of names for each face detected\n",
        "    dist = 1.0 #distance assigned to non recognized encodings\n",
        "    names = []\n",
        "    \n",
        "    ######################### FACE RESOLUTION LOGIC###################\n",
        "    ratio = infos[0]\n",
        "    landmark = infos[1]\n",
        "\n",
        "\n",
        "    discarded = \"discarded\"\n",
        "\n",
        "\n",
        "    \n",
        "    if (ratio < min_area):\n",
        "        #discard the picture\n",
        "        return discarded, dist\n",
        "    \n",
        "    if (landmark == 0):\n",
        "      #total_profile_ = total_profile_ + 1\n",
        "      #print(\"W\")\n",
        "      return discarded, dist\n",
        "    #########################\n",
        "    \n",
        "    # attempt to match each encoding to our known encodings\n",
        "    #global_number_enc : global parameter that allow us to chose the numeber of known encoding on the server to consider in the comparison\n",
        "    # if it is <0 all the encodings are taken\n",
        "\n",
        "    if global_number_enc > 0:\n",
        "      data = data[\"encodings\"][0:global_number_enc]\n",
        "    else:\n",
        "      data = data[\"encodings\"]\n",
        "    \n",
        "    #Compare a list of face encodings against a candidate encoding to see if they match based on the tolerance parameter\n",
        "    #Returns:\tA list of True/False values indicating which known_face_encodings match the face encoding to check\n",
        "    matches = face_recognition.compare_faces(data,encodings_1, tolerance= tolerance)\n",
        "    \n",
        "    name = \"unknown\"\n",
        "\n",
        "    # check to see if we have found a match\n",
        "    if True in matches:\n",
        "      #Given a list of face encodings, compare them to a known face encoding and get a euclidean distance for each comparison face. \n",
        "      #The distance tells you how similar the faces are.\n",
        "      face_distances = face_recognition.face_distance(data, encodings_1)\n",
        "      \n",
        "      #Choose the known face with the smallest distance to the new face \n",
        "      best_match_index = np.argmin(face_distances)\n",
        "\n",
        "      if matches[best_match_index]:\n",
        "          name = encodings_2[\"names\"][best_match_index]\n",
        "          dist = face_distances[best_match_index]\n",
        "\n",
        "    # update the list of names\n",
        "    try:\n",
        "        name = name.split('/')[2]\n",
        "    except:\n",
        "        name = name\n",
        "    names.append(name)\n",
        "    \n",
        "    return names, dist\n",
        "    "
      ],
      "execution_count": 0,
      "outputs": []
    },
    {
      "cell_type": "code",
      "metadata": {
        "id": "wrSL0ZIHB6Mx",
        "colab_type": "code",
        "colab": {}
      },
      "source": [
        "def encodingsRead(path):\n",
        "    ## PAY ATTENTION:: You need to create the encoding for you dataset using encode_face.py\n",
        "    data = pickle.loads(open(path, \"rb\").read())\n",
        "    return data"
      ],
      "execution_count": 0,
      "outputs": []
    },
    {
      "cell_type": "code",
      "metadata": {
        "id": "TIIZADzMB_7a",
        "colab_type": "code",
        "colab": {}
      },
      "source": [
        "def boxesRead(path):\n",
        "    try:\n",
        "        data = pickle.loads(open(path, \"rb\").read())\n",
        "    except FileNotFoundError:\n",
        "        boxdata= np.ones(100)\n",
        "        data = {\"ratio\": boxdata, \"face\": boxdata, \"image\": boxdata}\n",
        "        print(\"---- Default box construction\")\n",
        "    return data"
      ],
      "execution_count": 0,
      "outputs": []
    },
    {
      "cell_type": "markdown",
      "metadata": {
        "id": "R2cBwa9P9VHI",
        "colab_type": "text"
      },
      "source": [
        "#### used to find the name of the subject given the name of the video (specific for our dataset)"
      ]
    },
    {
      "cell_type": "code",
      "metadata": {
        "id": "Yr0xHm8yFH-j",
        "colab_type": "code",
        "colab": {}
      },
      "source": [
        "import json\n",
        "#code to retrieve the real name starting from the rec name\n",
        "with open( root_path +'labelled_videos.json') as json_file:\n",
        "  data = json.load(json_file)\n",
        "\n",
        "def readTrueName(rec_name):\n",
        "  \n",
        "  for real_name in data:\n",
        "    if rec_name in data[real_name]:\n",
        "      return real_name\n",
        "  return \"unknown\""
      ],
      "execution_count": 0,
      "outputs": []
    },
    {
      "cell_type": "markdown",
      "metadata": {
        "id": "GZJHpw61oIWB",
        "colab_type": "text"
      },
      "source": [
        "####Two types of early stopping:\n",
        "* we reject the acces (return False) if after $minFrames$ the percentage of times the algorithm returns False is greater than $0.5$\n",
        "* we grant the acces if the function **makeDecision** return true. This function starting from $minFrames/5$ compare the average distances (or the min) of the encodings till that moment and make a decison taking into account the number of frames alredy received. "
      ]
    },
    {
      "cell_type": "code",
      "metadata": {
        "id": "hUG98n9zOHnr",
        "colab_type": "code",
        "colab": {}
      },
      "source": [
        "def makeDecision(distances,threshold,n_frames,min_frames_to_compare, mod = 'avg'):\n",
        "  '''\n",
        "  - distances: list of all the face distances so far\n",
        "  - threshold: percentage of frames to be recognised to say True when distances don't works\n",
        "  - n_frames: current frame number\n",
        "  - mod : avg or min , takes the average or the minimum of the distances in order to give the answer\n",
        "  - Return: True/false to say if the two people are the same\n",
        "  '''\n",
        "\n",
        "\n",
        "  if len(distances)>0:\n",
        "      if  mod == 'avg':\n",
        "        min_d = np.mean(distances)\n",
        "      else:\n",
        "        if mod == 'min':\n",
        "          min_d = np.amin(distances)\n",
        "        else:\n",
        "          print('Only avg or min supperted the default will be used')\n",
        "          min_d = np.mean(distances)\n",
        "\n",
        "      dists = np.linspace(0.2, 0.45,50)\n",
        "      frames = np.linspace(int(min_frames_to_compare/5), min_frames_to_compare*2,50)\n",
        "\n",
        "      '''\n",
        "      HAND-MADE VARIANT to explain how it ideally works\n",
        "      if min_d <= 0.2:\n",
        "        return True\n",
        "      if min_d <= 0.25 and len(distances)>=(2/3)*min_frames_to_compare:\n",
        "        return True\n",
        "      if min_d <= 0.3 and len(distances)>=(3/4)*min_frames_to_compare:\n",
        "        return True\n",
        "      if min_d <= 0.35 and len(distances)>=(4/5)*min_frames_to_compare:\n",
        "        return True\n",
        "      if min_d <= 0.40 and len(distances)>=(5/6)*min_frames_to_compare:\n",
        "        return True   \n",
        "      if min_d <= 0.45 and len(distances)>=(6/7)*min_frames_to_compare:\n",
        "        return True\n",
        "      if min_d <= 0.50 and len(distances)>=(7/8)*min_frames_to_compare:\n",
        "        return True\n",
        "      '''\n",
        "      #compact version of the above explanation\n",
        "      for i in range(0,len(dists)):\n",
        "        if min_d <= dists[i] and len(distances) >= frames[i]:\n",
        "          return True                    \n",
        "  \n",
        "  #we use again a threshold based decision when the previous logig doesn't work    \n",
        "  if len(distances)/n_frames > threshold:\n",
        "    return True\n",
        "  \n",
        "  return False"
      ],
      "execution_count": 0,
      "outputs": []
    },
    {
      "cell_type": "markdown",
      "metadata": {
        "id": "y6_PYZxU-83Z",
        "colab_type": "text"
      },
      "source": [
        "#### this code is used to apply the resolution logic of the face crop also on the $known__encoding$. It filters the encoding with a ratio less than $min__area$ in the same way as before.\n",
        "\n",
        "This function will become useles if implement this logic directly during the encoding generation, but in order to not generate everything again we made this choice"
      ]
    },
    {
      "cell_type": "code",
      "metadata": {
        "id": "ADqaF9bHcfRh",
        "colab_type": "code",
        "colab": {}
      },
      "source": [
        "def removeFaces(curr_encoding, person, min_area):  \n",
        "  '''\n",
        "  - curr_encoding: list of the encoding that we want to filter\n",
        "  - person: name of the person video used to recover the file containing the ratio values\n",
        "  - min_area: minum are requird for an encoding to not be discarded, if min_area is less than 0 a new logic take place\n",
        "            we will take the biggest face crop among the saved one. Now this will be the reference area and not the area of the whole\n",
        "            image anymore. \n",
        "\n",
        "  return: fileter array\n",
        "  '''\n",
        "  #path definition\n",
        "  box_path = root_path +\"boxes/box_\" + person \n",
        "  boxes_to_compare = boxesRead(box_path)\n",
        "  #taking ratio and landmarks\n",
        "  ratio_to_compare =np.array(boxes_to_compare['ratio'])\n",
        "  landmark_to_compare = boxes_to_compare['landmark']\n",
        " \n",
        "  #if no ratio are retrieved an error is returned--> debug mainly\n",
        "  if len(ratio_to_compare)<=0:\n",
        "    print(person)\n",
        "  \n",
        "  #new logic#\n",
        "  if( min_area < 0): \n",
        "    min_area_max = np.max(ratio_to_compare) * ((-1) * min_area) / 100 #-1 because the parameter passed is negative but a negative percentage makes no sense\n",
        "    min_area = min_area_max\n",
        "\n",
        "  #keep only the encodings that pass the test on ratio and landmarks\n",
        "  indexes= np.where(ratio_to_compare > min_area)[0]\n",
        "  index = []\n",
        "  for i in indexes:\n",
        "    landmark = landmark_to_compare[i]\n",
        "    if(not landmark):\n",
        "        continue\n",
        "    index.append(i)\n",
        "  #pdb.set_trace()\n",
        "  index = np.array(index)\n",
        "\n",
        "  enc = np.array(curr_encoding['encodings'])\n",
        "  names = np.array(curr_encoding['names'])\n",
        "  #print('Before:',len(enc))\n",
        "  if len(index) >0:\n",
        "    enc = enc[index]\n",
        "    names = names[index]\n",
        "  else:\n",
        "    enc = []\n",
        "    names = []\n",
        "  #print('After:',len(enc))\n",
        "  \n",
        "  values = [enc,names]\n",
        "\n",
        "  #recreate the dictionary format need in the test\n",
        "  keys = ['encodings', 'names']\n",
        "  dictionary = dict(zip(keys, values))\n",
        "  \n",
        "  return dictionary\n"
      ],
      "execution_count": 0,
      "outputs": []
    },
    {
      "cell_type": "markdown",
      "metadata": {
        "id": "-iclR-B9-3GB",
        "colab_type": "text"
      },
      "source": [
        "#### faceRecOnENC\n",
        "this function receives the Known_encodings that have aleady been filtered and retrieves the unknown ones. After that based on the distances and the info retrin by faceRecognitionENC gives us a Positive/Negative answer"
      ]
    },
    {
      "cell_type": "code",
      "metadata": {
        "id": "890DaSRNgVC5",
        "colab_type": "code",
        "colab": {}
      },
      "source": [
        "def faceRecOnENC(encoding_path, encodings, correct_person,test_person, detection='cnn',min_threshold = 0.85, \n",
        "                    min_frames_to_compare = 30 ,\n",
        "                    tolerance = 0.6,\n",
        "                    mod = 'avg',\n",
        "                    min_area = 1):\n",
        "    '''\n",
        "    - encoding_path: path of the 'unknow' encodings --> it mimic the input stream of images and encodings\n",
        "    - encodings: dictionary [encodings,names] of the last video of the known person saved on the server\n",
        "    - correct_person : name of the person associated with the known encodings\n",
        "    - test_person: real name of the person associated with the input stream --> used only for stats\n",
        "    - detection: parameter for faceRecognitionENC\n",
        "    - min_frames_to_compare: minimum number of frames to check in order to give a negative answer, the positive one can be given starting from min_frames_to_compare/5\n",
        "    - tolerance:  parameter for faceRecognitionENC minum euclidean distance between two encodings to be recognised as the same\n",
        "    - mod : parameter for makeDecision we can take the minimum or the average of the distances\n",
        "    - min_area =  parameter for faceRecognitionENC used for the resolution\n",
        "    '''\n",
        "  \n",
        "    #retrieves the second list of encodings\n",
        "    encodings_to_compare = encodingsRead(encoding_path)\n",
        "    encodings_to_compare = encodings_to_compare[\"encodings\"]#encoding of a different person\n",
        "    \n",
        "    \n",
        "    #retrieves the boxes and landmarks alredy generated and saved\n",
        "    box_path = root_path +\"boxes/box_\" + test_person + \".pkl\"\n",
        "    \n",
        "\n",
        "    boxes_to_compare = boxesRead(box_path)\n",
        "    #ratio list\n",
        "    ratio_to_compare = boxes_to_compare['ratio']\n",
        "\n",
        "    #landmarks\n",
        "    try:\n",
        "        landmark_to_compare = boxes_to_compare['landmark']\n",
        "    except KeyError:\n",
        "        print('Auth genreated')\n",
        "        landmark_to_compare = np.ones(1000)\n",
        "\n",
        "    #read the true name of the unknow person in order to see if the prediction was correct and to generate values for statistics\n",
        "    test_person = readTrueName(test_person)\n",
        "\n",
        "    start = time.time()\n",
        "\n",
        "    # variables for statistics\n",
        "    analysed_frames = 0\n",
        "    correct_frames = 0\n",
        "    negative_frames = 0\n",
        "    neutrum_frames = 0\n",
        "    ignored_frames = 0\n",
        " #-----------------------#\n",
        "    distances = []\n",
        "\n",
        "    #we had some cases where no faces where recognised\n",
        "    if len(encodings_to_compare) <= 0:\n",
        "        return False, 0, 0, 0, 0\n",
        "\n",
        "\n",
        "    # loop over the encodings\n",
        "    frame_count = 0      \n",
        "\n",
        "\n",
        "    #if min_area is less than 0 a new logic take place\n",
        "    #we will take the biggest face crop among the saved one, and compute the percentage based on this new measurement\n",
        "    if( min_area < 0): \n",
        "      min_area_max = np.max(ratio_to_compare) * ((-1) * min_area) / 100#\n",
        "      min_area = min_area_max\n",
        "\n",
        "    #vector that contains the ratio and if the landmarks are prensent or not\n",
        "    infos = np.zeros(2)\n",
        "\n",
        "    #loop over the unknown encodings\n",
        "    for enc in encodings_to_compare:\n",
        "\n",
        "      ratio = ratio_to_compare[frame_count]\n",
        "      landmark = landmark_to_compare[frame_count]\n",
        "      \n",
        "      \n",
        "      infos[0] = ratio\n",
        "\n",
        "      if (not landmark):\n",
        "          infos[1] = 0 # 0 profile\n",
        "      else:\n",
        "          infos[1] = 1 #front-facing\n",
        "\n",
        "\n",
        "\n",
        "      person, dist= faceRecognitionENC(enc, encodings, infos,  detection='cnn', tolerance = 0.5, min_area = min_area)\n",
        "\n",
        "      analysed_frames += 1\n",
        "      frame_count += 1 \n",
        "\n",
        "      if( person == \"discarded\"):\n",
        "        # we are ignoring the frame\n",
        "        analysed_frames -= 1\n",
        "        ignored_frames += 1 \n",
        "        continue\n",
        "      \n",
        "      person = readTrueName(person[0])\n",
        "      \n",
        "      #if the name of the person returned (the one that was saved with the encodings) and the name of the one we want to predict are equal\n",
        "      # we can say that the algorithm recognises them as the same\n",
        "      #this can be see as the function return a simple 'True' that say the new face was recognised but we don't really know if it was correct\n",
        "      if(person == correct_person):#recognised\n",
        "        distances.append(dist)\n",
        "        \n",
        "        # if the real name of the unknown person here colled test_person and the name of the correct_person\n",
        "        #are equal then the face was correctly recognised\n",
        "        if (correct_person == test_person): #correctly recognised\n",
        "          correct_frames+=1 #true positive\n",
        "        \n",
        "        #wrong recognition we say that the two were the same person even if this was not the case\n",
        "        else:#wrongly recognised\n",
        "          negative_frames += 1 #false positive\n",
        "\n",
        "      else:#not recognized\n",
        "        neutrum_frames += 1\n",
        "      \n",
        "      #computing the rates of correct/wrong recognition\n",
        "      correct_rate = correct_frames/analysed_frames\n",
        "      neutrum_rate = neutrum_frames/analysed_frames\n",
        "      negative_rate = negative_frames/analysed_frames\n",
        "\n",
        "\n",
        "      #-----------------------------------------------------------------------------------------------------------------#\n",
        "\n",
        "      #early stopping for negative result\n",
        "      #After tot frames we try to see if we can give a negative answer before the end of the video\n",
        "      #in particular we check if more than half of the frames weren't recognised at all and if that is the case we can say that\n",
        "      #the two person are different\n",
        "      if (analysed_frames >= min_frames_to_compare ): # ex 30fps --> 45 frames = 1.5 second  ---early stopping\n",
        "          \n",
        "          if neutrum_frames/analysed_frames > 0.5:#early stopping for the negative \n",
        "            return False,correct_rate, neutrum_rate, negative_rate, analysed_frames\n",
        "\n",
        "      #early stopping for positive result\n",
        "      #starting from min_frames/5 every time we try to give an answer using the function make decision \n",
        "      if (analysed_frames >= min_frames_to_compare/5): # ex 30fps --> 15 frames = 0.5 second  ---early stopping\n",
        "          \n",
        "          if(makeDecision(distances,min_threshold,analysed_frames,min_frames_to_compare, mod = mod)):\n",
        "            return True,correct_rate, neutrum_rate, negative_rate, analysed_frames\n",
        "      \n",
        "      #--------------------------------------------------------------------------------------------------------------------#\n",
        "\n",
        "    #for end --> retrun to a threshold based logic if the previous doesn't work\n",
        "    #for ends\n",
        "    if(analysed_frames == 0):\n",
        "        analysed_frames = 1\n",
        "    \n",
        "    correct_rate = correct_frames/analysed_frames\n",
        "    neutrum_rate = neutrum_frames/analysed_frames\n",
        "    negative_rate = negative_frames/analysed_frames\n",
        "          \n",
        "    if (correct_frames + negative_frames)/analysed_frames > min_threshold: #ex 85% of the frames are recognised\n",
        "      return True,correct_rate, neutrum_rate, negative_rate, analysed_frames\n",
        "    else:\n",
        "      return False,correct_rate, neutrum_rate, negative_rate, analysed_frames"
      ],
      "execution_count": 0,
      "outputs": []
    },
    {
      "cell_type": "markdown",
      "metadata": {
        "id": "O-zz8qyU3EQG",
        "colab_type": "text"
      },
      "source": [
        "### Cross Test\n",
        "The CrossedTest compare the encodings of one person with all the other encodings (same person or not)  in order to compute later Far and Tar.\n",
        "Here each person is compared with all the other except that with himself.\n"
      ]
    },
    {
      "cell_type": "code",
      "metadata": {
        "id": "ikEQl6qogVC_",
        "colab_type": "code",
        "colab": {}
      },
      "source": [
        "def performCrossedTestENC(min_v=0, max_v=1000, threshold=0.85, log=False, tolerance = 0.6, mod = 'avg', min_area =1):\n",
        "    print(\"-------------------------\")\n",
        "    print(\"TEST STARTED\")\n",
        "    print(\"-------------------------\")\n",
        "    start = time.time()\n",
        "\n",
        "    count = 0\n",
        "\n",
        "    #retrieve the encodings path\n",
        "    enc_list = os.listdir(encodings_folder)\n",
        "    test_dir = os.listdir(test_path)\n",
        "\n",
        "    #folder for the log that record the experiment results\n",
        "    log_folder_base = 'logs_' + str(tolerance) + '_'+str(threshold) +'_'+str(global_number_enc)+'_'+str(global_min_frames)+'_'+str(mod)+'/'\n",
        "\n",
        "    count_p = 0\n",
        "    #loop over the encodings\n",
        "    for encoding in enc_list:\n",
        "        count = count + 1\n",
        "        if(count < min_v):\n",
        "            continue\n",
        "        if(count > max_v):\n",
        "            break\n",
        "\n",
        "        n_test = 0\n",
        "        n_correct = 0\n",
        "        #name of the video\n",
        "        enc_name = encoding[0:len(encoding)-4]#removing '.pkl' from name\n",
        "        encoding_path = encodings_folder + encoding\n",
        "        \n",
        "        start_2 = time.time()\n",
        "\n",
        "        #retrive the encodings\n",
        "        curr_encoding = encodingsRead(encoding_path)\n",
        "        \n",
        "        #name of the person that the encodings represent\n",
        "        real_name_curr_encoding = readTrueName(enc_name)\n",
        "        \n",
        "        #discard the people that:\n",
        "        #- don't have a name in our json file\n",
        "        #- no faces are recognised in the video\n",
        "        #- the person belong to the document category\n",
        "\n",
        "        if (real_name_curr_encoding == \"unknown\" or real_name_curr_encoding =='documents' or len(curr_encoding['encodings'])<=0):\n",
        "          \n",
        "          continue\n",
        "        \n",
        "        print('[ENC] Using encoding:', enc_name)\n",
        "        print(real_name_curr_encoding)\n",
        "        #-------------------------------------------#\n",
        "        #using the logic previously described to clean the encoding that are saved from \n",
        "        #unwanted faces in the background or when the person is not looking in the camera\n",
        "        curr_encoding = removeFaces(curr_encoding,encoding,min_area)\n",
        "        #-----------------------------------------------#\n",
        "\n",
        "\n",
        "        count_p += 1\n",
        "        if( log == True):\n",
        "          #log_folder = log_folder_base + 'F/'\n",
        "          try:\n",
        "              os.mkdir(root_path + '/logs#11/' + log_folder_base)\n",
        "              #os.mkdir(root_path + '/logs#10/' + log_folder)\n",
        "          except FileExistsError:\n",
        "              print('Already existing folder')\n",
        "\n",
        "          logfile = open(root_path + '/logs#11/' + log_folder_base + \"log_\" + enc_name + \".txt\", \"w\")\n",
        "\n",
        "        #loop on the other file in the dataset except himself\n",
        "        for person in test_dir:\n",
        "            \n",
        "            if ( enc_name == person[0:len(person)-4]):#removing '.pkl' from name \n",
        "              continue\n",
        "\n",
        "            test_enc = test_path + person            \n",
        "            person = person[0:len(person)-4]\n",
        "            \n",
        "            #print('Testing on test encoding:', person)\n",
        "            \n",
        "            real_name_test_encoding = readTrueName(person)\n",
        "\n",
        "            if (real_name_test_encoding == \"unknown\" or real_name_test_encoding ==\"documents\"):\n",
        "              continue\n",
        "            \n",
        "            # test the encodings of testset               \n",
        "            v, a, b, c, d = faceRecOnENC(test_enc, curr_encoding, real_name_curr_encoding, person, min_threshold=threshold, tolerance = tolerance, \n",
        "                                         min_frames_to_compare = global_min_frames,mod = mod, \n",
        "                                         min_area = min_area)\n",
        "                                      \n",
        "            \n",
        "            if(log== True):\n",
        "                line = person + \" \" + str(d) + \" \" + str(v) + \" \" + str(a) + \" \" + str(b) + \" \" + str(c) + \"\\n\"\n",
        "                logfile.write(line)\n",
        "            if( v == True):\n",
        "                n_correct += 1\n",
        "\n",
        "        if(log == True):\n",
        "            logfile.close()\n",
        "        \n",
        "        end_2 = time.time()\n",
        "        \n",
        "\n",
        "\n",
        "        print(\"-------------------------\")\n",
        "        print('The comparison last:', end_2-start_2)\n",
        "        print(\"-------------------------\")\n",
        "        if count %10 == 0:\n",
        "          print('Percentage of people:', int(count_p*100/285),'%')\n",
        "          print(\"-------------------------\")\n",
        "    \n",
        "    end = time.time()\n",
        "    print(\"-------------------------\")\n",
        "    print(\"TEST ENDED\")\n",
        "    print(\"-------------------------\")\n",
        "    print('This test last:', end-start)\n",
        "    return"
      ],
      "execution_count": 0,
      "outputs": []
    },
    {
      "cell_type": "markdown",
      "metadata": {
        "id": "Qj-bS12S57kS",
        "colab_type": "text"
      },
      "source": [
        "## Code for Statistics\n",
        "The two following function generate statistic starting from the log saved during the crosstest\n",
        "\n",
        "Pies counts relies only on the True/False field in the log and compare that with the real answer.\n",
        "\n",
        "Roc relies only on the percentage of correct/wrong result(correct_rate,negative_rate in FacerecOnEnc)\n"
      ]
    },
    {
      "cell_type": "markdown",
      "metadata": {
        "id": "s9CEllVMSEdS",
        "colab_type": "text"
      },
      "source": [
        "###Pies"
      ]
    },
    {
      "cell_type": "code",
      "metadata": {
        "id": "1GK6QFzm0hv6",
        "colab_type": "code",
        "colab": {}
      },
      "source": [
        "from sklearn.metrics import roc_curve, auc\n",
        "\n",
        "\n",
        "from google.colab import files\n",
        "\n",
        "def showStats(folder,tolerance, show = True):\n",
        "\n",
        "  print(\"##############\")\n",
        "  print(\"TOLERANCE\",tolerance)\n",
        "  print(\"#############\")\n",
        "\n",
        "\n",
        "  FAR_path = folder\n",
        "\n",
        "  files = os.listdir(FAR_path)\n",
        "\n",
        "\n",
        "  values = [0.85]\n",
        "  confirmed_rate = np.zeros(len(values))\n",
        "  i = 0\n",
        "\n",
        "  for thr in values:\n",
        "      total_files = 0\n",
        "      recognized = 0\n",
        "      notdetected = 0\n",
        "      wrong = 0\n",
        "      wrong_confirmed = 0\n",
        "      wrong_confirmed2 = 0\n",
        "      wrong_confirmed3 = 0\n",
        "      wrong_confirmed4 = 0\n",
        "\n",
        "      global_pos_count = 0\n",
        "      global_pos = 0\n",
        "      global_neg_count = 0\n",
        "      global_neg = 0\n",
        "\n",
        "      ####\n",
        "      n_frames = 0\n",
        "      one_wrong_rec = 0\n",
        "      persons = 0\n",
        "      for f in files:\n",
        "          if( f.startswith('log') == True):\n",
        "              filev = open(FAR_path + f, \"r\")\n",
        "              vector = f.split('_')[1].split(\".\")[0]\n",
        "              correct_person = readTrueName(vector + '.webm')\n",
        "              lines = filev.readlines()\n",
        "              persons += 1\n",
        "              for line in lines: \n",
        "                  \n",
        "                  name = line.split(' ')[0]\n",
        "                  total_files += 1\n",
        "\n",
        "                  n_frames += int(line.split(' ')[1])\n",
        "                  rec_flag = line.split(' ')[2]\n",
        "\n",
        "                  #pdb.set_trace()\n",
        "                  rec_percentage = float(line.split(' ')[3])\n",
        "                  notdec_percentage = float(line.split(' ')[4])\n",
        "                  notrec_percentage = float(line.split(' ')[5])\n",
        "\n",
        "                  if(readTrueName(name) == correct_person):#same person\n",
        "                      \n",
        "                      if rec_flag == 'True':#acces granted correctly\n",
        "                        global_pos +=1\n",
        "                      \n",
        "                      global_pos_count+=1\n",
        "                  \n",
        "                  else:#non sono la stessa persona\n",
        "                      if rec_flag == 'True':#wrong acces granted \n",
        "                        global_neg +=1\n",
        "                      \n",
        "                      global_neg_count+=1\n",
        "\n",
        "\n",
        "\n",
        "                  recognized = recognized + rec_percentage\n",
        "                  notdetected = notdetected + notdec_percentage\n",
        "                  wrong = wrong + notrec_percentage\n",
        "\n",
        "                  if(notrec_percentage > thr):\n",
        "                      wrong_confirmed = wrong_confirmed + 1\n",
        "      \n",
        "      if(total_files == 0):\n",
        "          total_files = 1\n",
        "      confirmed_rate[i] = wrong_confirmed / total_files\n",
        "      wrong_confirmed = 0\n",
        "      i = i +1\n",
        "\n",
        "  ## equal for each iteration\n",
        "  positive = recognized / total_files \n",
        "  undetected = notdetected / total_files\n",
        "  negative = wrong / total_files\n",
        "\n",
        "  wrong_rec_on_persons = one_wrong_rec / (persons-1)\n",
        "\n",
        "  #----------------------------------------------------------------------------#\n",
        "  \n",
        "  ## WRONG ONES WHERE ASSIGNED TO THE PERSON EVEN IF HE WASN'T\n",
        "  '''\n",
        "  if show:\n",
        "    labels = ['Correct', 'NotRecognized', 'Wrong']\n",
        "    colors = ['Blue', 'Yellow', 'Orange']\n",
        "    sizes1 = [positive, undetected, negative]\n",
        "\n",
        "\n",
        "    plt.pie(sizes1, labels=labels, shadow=True, startangle=90, colors=colors)\n",
        "    plt.title('Recognition average over all the images')\n",
        "    plt.legend()\n",
        "    plt.show()\n",
        "    print('Percentage of overall images that were correctly not recognized:', undetected)\n",
        "    print('\\n\\n')\n",
        "  '''\n",
        "  #--------------------------------------------------------------------------------------------#\n",
        "  \n",
        "  cfr = global_neg/global_neg_count\n",
        "  \n",
        "  if show:\n",
        "    labels = ['Wrongly Confirmed', 'Correclty Not Confirmed']\n",
        "    colors = ['Red','Green']\n",
        "    sizes1 = [cfr, (1 - cfr)]\n",
        "\n",
        "\n",
        "\n",
        "    plt.pie(sizes1, labels=labels, shadow=True, startangle=90, colors=colors)\n",
        "    plt.title('Confirmation percentage using our algorithm metrics')\n",
        "    plt.show()\n",
        "    print('Percentage of TRR ' 'is', 1-cfr)\n",
        "    print('Percentage of FAR ' 'is', cfr)\n",
        "    print('\\n\\n')\n",
        "  \n",
        "  TRR = 1-cfr\n",
        "  FAR = cfr\n",
        "  #--------------------------------------------------------------------------------------------------------------------------#\n",
        "\n",
        "  cfr = global_pos/global_pos_count\n",
        "  if show:\n",
        "    labels = ['Correctly Confirmed', 'Wrongly Not Confirmed']\n",
        "    colors = ['Green', 'Red']\n",
        "    sizes1 = [cfr, (1 - cfr)]\n",
        "\n",
        "\n",
        "    plt.pie(sizes1, labels=labels, shadow=True, startangle=90, colors=colors)\n",
        "    plt.title('Confirmation percentage using our algorithm metrics')\n",
        "    plt.show()\n",
        "    print('Percentage of TAR ' 'is', cfr)\n",
        "    print('Percentage of FRR ' 'is', 1-cfr)\n",
        "\n",
        "  TAR = cfr\n",
        "  FRR = 1-cfr\n",
        "  #--------------------------------------------------------------------------------------------------------------------------#\n",
        "  #mean FRAMES\n",
        "\n",
        "  print('Mean frames analysed',n_frames/(persons*persons))\n",
        "  return TRR,FAR,TAR,FRR"
      ],
      "execution_count": 0,
      "outputs": []
    },
    {
      "cell_type": "markdown",
      "metadata": {
        "id": "MLBvsy6uSNy2",
        "colab_type": "text"
      },
      "source": [
        "###ROC&stat"
      ]
    },
    {
      "cell_type": "code",
      "metadata": {
        "id": "d3XrVZBSMGWt",
        "colab_type": "code",
        "colab": {}
      },
      "source": [
        "def showStatsROC(log_folder):\n",
        "  files = os.listdir(log_folder)\n",
        "\n",
        "\n",
        "  values = [0.20, 0.40, 0.45, 0.55, 0.60, 0.65, 0.75, 0.80, 0.85, 0.90, 0.95, 0.99, 0.9999]\n",
        "  confirmed_rate = np.zeros(len(values))\n",
        "  confirmed_rateT = np.zeros(len(values))\n",
        "  i = 0\n",
        "\n",
        "  for thr in values:\n",
        "      total_files = 0    \n",
        "      total_files_t = 0\n",
        "      recognized = 0\n",
        "      notdetected = 0\n",
        "      wrong = 0\n",
        "      confirmed = 0\n",
        "      wrong_confirmed = 0\n",
        "      wrong_confirmed2 = 0\n",
        "      wrong_confirmed3 = 0\n",
        "      wrong_confirmed4 = 0\n",
        "\n",
        "      ####\n",
        "      one_wrong_rec = 0\n",
        "      persons = 0\n",
        "      for f in files:\n",
        "          if( f.startswith('log') == True):\n",
        "              filev = open(log_folder + f, \"r\")\n",
        "              vector = f.split('_')[1].split(\".\")[0]\n",
        "              correct_person = readTrueName(vector + \".webm\")\n",
        "              lines = filev.readlines()\n",
        "              persons += 1\n",
        "              for line in lines: \n",
        "                  #we don't want to make statistics on the same person\n",
        "                  name = line.split(' ')[0]\n",
        "\n",
        "                  rec_flag = line.split(' ')[2]\n",
        "                  rec_percentage = float(line.split(' ')[3])\n",
        "                  notdec_percentage = float(line.split(' ')[4])\n",
        "                  notrec_percentage = float(line.split(' ')[5])\n",
        "\n",
        "                  if(readTrueName(name) == correct_person):\n",
        "                      if(rec_percentage > thr):\n",
        "                          confirmed = confirmed + 1\n",
        "                      #print('hello')\n",
        "                      total_files_t +=1\n",
        "                  else:\n",
        "                    total_files += 1\n",
        "\n",
        "\n",
        "                  recognized = recognized + rec_percentage\n",
        "                  notdetected = notdetected + notdec_percentage\n",
        "                  wrong = wrong + notrec_percentage\n",
        "\n",
        "                  if(notrec_percentage > thr):\n",
        "                      wrong_confirmed = wrong_confirmed + 1\n",
        "      \n",
        "      if(total_files == 0 or total_files_t ==0):\n",
        "          total_files = 1\n",
        "          total_files_t = 1\n",
        "      confirmed_rate[i] = wrong_confirmed / total_files\n",
        "      confirmed_rateT[i] = confirmed / total_files_t\n",
        "      wrong_confirmed = 0\n",
        "      i = i +1\n",
        "\n",
        "  ## equal for each iteration\n",
        "  positive = recognized / total_files \n",
        "  undetected = notdetected / total_files\n",
        "  negative = wrong / total_files\n",
        "\n",
        "  wrong_rec_on_persons = one_wrong_rec / (persons-1)\n",
        "\n",
        "  from sklearn.metrics import roc_curve, auc\n",
        "  #print(\"Tolerance: 0.45\")\n",
        "  fpr = confirmed_rate\n",
        "  tpr = confirmed_rateT\n",
        "  exampleX = [0.0, 0.0000001, 0.2, 0.8, 1.0]\n",
        "  exampleY = [0.0, 1.0, 1.0, 1.0, 1.0]\n",
        "  limitx = np.max(fpr)\n",
        "\n",
        "  plt.figure()\n",
        "  lw = 2\n",
        "  plt.plot(exampleX, exampleY, color='green', linestyle='-', label='Ideal ROC')\n",
        "  plt.scatter(fpr, tpr, color='darkorange',lw=lw, label='ROC curve')\n",
        "  plt.scatter(fpr[1], tpr[1], color='red',lw=lw, label='thr: 0.4')\n",
        "  plt.scatter(fpr[2], tpr[2], color='blue',lw=lw, label='thr: 0.45')\n",
        "  plt.plot([0, 1], [0, 1], color='navy', lw=lw, linestyle='--', label='Random case')\n",
        "  plt.xlim([-0.01, 1.0])\n",
        "  plt.ylim([0.0, 1.05])\n",
        "  plt.xlabel('False Positive Rate')\n",
        "  plt.ylabel('True Positive Rate')\n",
        "  plt.title('ROC curve')\n",
        "  plt.legend(loc=\"lower right\")\n",
        "  plt.show()\n",
        "\n",
        "  plt.figure()\n",
        "  lw = 2\n",
        "  plt.plot(exampleX, exampleY, color='green', linestyle='-', label='Ideal ROC')\n",
        "  plt.plot(fpr, tpr, color='darkorange',lw=lw, label='ROC curve')\n",
        "  plt.plot([0, 1], [0, 1], color='navy', lw=lw, linestyle='--', label='Random case')\n",
        "  plt.xlim([-0.001, limitx+0.02])\n",
        "  plt.ylim([0.0, 1.05])\n",
        "  plt.xlabel('False Positive Rate')\n",
        "  plt.ylabel('True Positive Rate')\n",
        "  plt.title('Zooming in the ROC curve')\n",
        "  plt.legend(loc=\"lower right\")\n",
        "  plt.show()\n",
        "\n",
        "  print(\"Threshold:\", values[1], \"TAR:\", tpr[1], \"FAR\", fpr[1])"
      ],
      "execution_count": 0,
      "outputs": []
    },
    {
      "cell_type": "markdown",
      "metadata": {
        "id": "dshYz-BCB7CP",
        "colab_type": "text"
      },
      "source": [
        "### CSV\n",
        "Return the FP and FN, in these csv files the first person in each row is the one we want to recognize and the others are:\n",
        "- For FN the videos that didn't match even if they were right\n",
        "- For FP the videos that matched even if they were wrong"
      ]
    },
    {
      "cell_type": "code",
      "metadata": {
        "id": "ttrTjHX1nl8K",
        "colab_type": "code",
        "colab": {}
      },
      "source": [
        "def createCsv(path):\n",
        "\n",
        "  files = os.listdir(path)\n",
        "  fp = open(root_path + 'FP.csv', \"w\")\n",
        "  writer_fp = csv.writer(fp)\n",
        "   \n",
        "  fn = open(root_path + 'FN.csv', \"w\")\n",
        "  writer_fn = csv.writer(fn)\n",
        "\n",
        "  print('start')\n",
        "  for f in files:\n",
        "      fp_l =[]\n",
        "      fn_l = []\n",
        "      if( f.startswith('logs_0.45_0.4_50_120') == True):\n",
        "          filev = open(path +'/'+ f, \"r\")\n",
        "          vector = f.split('_')[1].split(\".\")[0]\n",
        "          correct_person = readTrueName(vector + '.webm')\n",
        "          lines = filev.readlines()\n",
        "         \n",
        "          fn_l.append(vector + '.webm')\n",
        "          fp_l.append(vector + '.webm')\n",
        "          #writer_fn.write(vector + '.webm')\n",
        "          #writer_fp.write(vector + '.webm')\n",
        "          for line in lines: \n",
        "              \n",
        "              name = line.split(' ')[0]\n",
        "              rec_flag = line.split(' ')[2]\n",
        "\n",
        "              if(readTrueName(name) == correct_person):#same person\n",
        "                  \n",
        "                  if rec_flag == 'False':#False Negative\n",
        "                    fn_l.append(name)\n",
        "                    #writer_fn.write(name + \";\")\n",
        "              else:#non sono la stessa persona\n",
        "                  if rec_flag == 'True':#False positive\n",
        "                     fp_l.append(name)\n",
        "                     #writer_fp.write(name + \";\")\n",
        "            \n",
        "          writer_fn.writerow(fn_l)\n",
        "          writer_fp.writerow(fp_l)\n",
        "          #writer_fn.write('\\n')\n",
        "          #writer_fp.write('\\n')\n",
        "  fp.close()\n",
        "  fn.close"
      ],
      "execution_count": 0,
      "outputs": []
    },
    {
      "cell_type": "code",
      "metadata": {
        "id": "UEuzbvccn5R8",
        "colab_type": "code",
        "outputId": "00d476fe-79a0-451b-8204-066c7f651df2",
        "colab": {
          "base_uri": "https://localhost:8080/",
          "height": 34
        }
      },
      "source": [
        "log = root_path +\"logs#10/logs_0.45_0.4_50_120_avg\"\n",
        "createCsv(log)"
      ],
      "execution_count": 0,
      "outputs": [
        {
          "output_type": "stream",
          "text": [
            "start\n"
          ],
          "name": "stdout"
        }
      ]
    },
    {
      "cell_type": "markdown",
      "metadata": {
        "id": "BrYACZqwokY_",
        "colab_type": "text"
      },
      "source": [
        "## Run Experiments\n",
        "We are going now to compare each person with all the other videos so both himselfand different one.\n",
        "At the end we use the log to compute Tar,Trr,Far and Frr and Roc\n",
        "\n",
        "_global_number_enc_ is the number of encoding taken for each known person (The one in set A or we can also say the one saved on our server)\n",
        "\n",
        "_global_min_frames_ minum number of frames to be checked to give a negative answer, for the positive one we start checking from global_min_frames/5"
      ]
    },
    {
      "cell_type": "code",
      "metadata": {
        "id": "ZaHzXwIEWcMa",
        "colab_type": "code",
        "colab": {}
      },
      "source": [
        "encodings_folder = root_path + \"/encodings_face_videos_half/\"\n",
        "test_path = encodings_folder #same we use only encodings"
      ],
      "execution_count": 0,
      "outputs": []
    },
    {
      "cell_type": "code",
      "metadata": {
        "id": "9fOnAJ9LwrmX",
        "colab_type": "code",
        "colab": {}
      },
      "source": [
        "n_enc = [50]#encodig of the person on the server\n",
        "n_f = [90,120]# 1s,2s,3s,\n",
        "mods = ['avg']\n",
        "for e in n_enc:\n",
        "  for fm in n_f:\n",
        "    for mod in mods:\n",
        "      global_number_enc = e #number of encoding taken for each known person\n",
        "      global_min_frames = fm\n",
        "\n",
        "      performCrossedTestENC(min_v=0, max_v=500 ,tolerance = 0.45,log= True, threshold=0.4, mod = mod, min_area= -50)"
      ],
      "execution_count": 0,
      "outputs": []
    },
    {
      "cell_type": "markdown",
      "metadata": {
        "id": "C0kyGIgViVI2",
        "colab_type": "text"
      },
      "source": [
        "## Show results"
      ]
    },
    {
      "cell_type": "code",
      "metadata": {
        "id": "SiaD9GE9NUHY",
        "colab_type": "code",
        "outputId": "2c998519-8c5b-4ba3-c4cf-c38992a756db",
        "colab": {
          "base_uri": "https://localhost:8080/",
          "height": 1000
        }
      },
      "source": [
        "base_log = root_path +\"logs#11/\"\n",
        "dirs = os.listdir(base_log)\n",
        "for d in dirs:\n",
        "  \n",
        "    folder = base_log + d +'/'\n",
        "    e = d.split('_')[3]\n",
        "    f = d.split('_')[4]\n",
        "    t = d.split('_')[1]\n",
        "    m = d.split('_')[5]\n",
        "    if e == '-1':\n",
        "      e = 'All'\n",
        "    print(\"##############\")\n",
        "    print(\"ENCODINGS\",e)\n",
        "    print(\"FRAMES\",f)\n",
        "    print(\"MOD\",m)\n",
        "    print(\"#############\")\n",
        "   \n",
        "    showStatsROC(folder)\n",
        "    #_,_,_,_ = showStats(folder,d)"
      ],
      "execution_count": 0,
      "outputs": [
        {
          "output_type": "stream",
          "text": [
            "##############\n",
            "ENCODINGS 50\n",
            "FRAMES 90\n",
            "MOD avg\n",
            "#############\n"
          ],
          "name": "stdout"
        },
        {
          "output_type": "display_data",
          "data": {
            "image/png": "[encoded data removed]",
            "text/plain": [
              "<Figure size 432x288 with 1 Axes>"
            ]
          },
          "metadata": {
            "tags": [],
            "needs_background": "light"
          }
        },
        {
          "output_type": "display_data",
          "data": {
            "image/png": "[encoded data removed]",
            "text/plain": [
              "<Figure size 432x288 with 1 Axes>"
            ]
          },
          "metadata": {
            "tags": [],
            "needs_background": "light"
          }
        },
        {
          "output_type": "stream",
          "text": [
            "Threshold: 0.4 TAR: 0.9479423407274629 FAR 0.0009662984821680765\n",
            "##############\n",
            "ENCODINGS 50\n",
            "FRAMES 120\n",
            "MOD avg\n",
            "#############\n"
          ],
          "name": "stdout"
        },
        {
          "output_type": "display_data",
          "data": {
            "image/png": "[encoded data removed]",
            "text/plain": [
              "<Figure size 432x288 with 1 Axes>"
            ]
          },
          "metadata": {
            "tags": [],
            "needs_background": "light"
          }
        },
        {
          "output_type": "display_data",
          "data": {
            "image/png": "[encoded data removed]",
            "text/plain": [
              "<Figure size 432x288 with 1 Axes>"
            ]
          },
          "metadata": {
            "tags": [],
            "needs_background": "light"
          }
        },
        {
          "output_type": "stream",
          "text": [
            "Threshold: 0.4 TAR: 0.9487639106729405 FAR 0.000862235568703822\n"
          ],
          "name": "stdout"
        }
      ]
    },
    {
      "cell_type": "markdown",
      "metadata": {
        "id": "-M40buN95LJ9",
        "colab_type": "text"
      },
      "source": [
        "Comparing the logics, we could see that Fabrizio's experiment reach a lower FAR, penalising TAR. My logics instead can reach an higher TAR with the same encodings but it also makes more mistakes on FAR. Moreover, the strategy to pick sequential frames - as we did here - seems to be worse than taking random ones as we did in other case because frames close to each other have similar face characteristics.\n",
        "Especially, we see that this encodings are often entirely discarded by the logics and they are not compared at all."
      ]
    },
    {
      "cell_type": "code",
      "metadata": {
        "id": "uXNalOM7MwEC",
        "colab_type": "code",
        "colab": {}
      },
      "source": [
        ""
      ],
      "execution_count": 0,
      "outputs": []
    }
  ]
}